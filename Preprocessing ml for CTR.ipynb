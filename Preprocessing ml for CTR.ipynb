{
 "cells": [
  {
   "cell_type": "code",
   "execution_count": 36,
   "metadata": {
    "collapsed": true
   },
   "outputs": [],
   "source": [
    "import pandas as pd\n",
    "import numpy as np\n",
    "from collections import defaultdict"
   ]
  },
  {
   "cell_type": "code",
   "execution_count": 37,
   "metadata": {},
   "outputs": [
    {
     "name": "stdout",
     "output_type": "stream",
     "text": [
      "(465564, 4)\n"
     ]
    },
    {
     "data": {
      "text/html": [
       "<div>\n",
       "<style>\n",
       "    .dataframe thead tr:only-child th {\n",
       "        text-align: right;\n",
       "    }\n",
       "\n",
       "    .dataframe thead th {\n",
       "        text-align: left;\n",
       "    }\n",
       "\n",
       "    .dataframe tbody tr th {\n",
       "        vertical-align: top;\n",
       "    }\n",
       "</style>\n",
       "<table border=\"1\" class=\"dataframe\">\n",
       "  <thead>\n",
       "    <tr style=\"text-align: right;\">\n",
       "      <th></th>\n",
       "      <th>userId</th>\n",
       "      <th>movieId</th>\n",
       "      <th>tag</th>\n",
       "      <th>timestamp</th>\n",
       "    </tr>\n",
       "  </thead>\n",
       "  <tbody>\n",
       "    <tr>\n",
       "      <th>0</th>\n",
       "      <td>18</td>\n",
       "      <td>4141</td>\n",
       "      <td>Mark Waters</td>\n",
       "      <td>1240597180</td>\n",
       "    </tr>\n",
       "    <tr>\n",
       "      <th>1</th>\n",
       "      <td>65</td>\n",
       "      <td>208</td>\n",
       "      <td>dark hero</td>\n",
       "      <td>1368150078</td>\n",
       "    </tr>\n",
       "    <tr>\n",
       "      <th>2</th>\n",
       "      <td>65</td>\n",
       "      <td>353</td>\n",
       "      <td>dark hero</td>\n",
       "      <td>1368150079</td>\n",
       "    </tr>\n",
       "    <tr>\n",
       "      <th>3</th>\n",
       "      <td>65</td>\n",
       "      <td>521</td>\n",
       "      <td>noir thriller</td>\n",
       "      <td>1368149983</td>\n",
       "    </tr>\n",
       "    <tr>\n",
       "      <th>4</th>\n",
       "      <td>65</td>\n",
       "      <td>592</td>\n",
       "      <td>dark hero</td>\n",
       "      <td>1368150078</td>\n",
       "    </tr>\n",
       "  </tbody>\n",
       "</table>\n",
       "</div>"
      ],
      "text/plain": [
       "   userId  movieId            tag   timestamp\n",
       "0      18     4141    Mark Waters  1240597180\n",
       "1      65      208      dark hero  1368150078\n",
       "2      65      353      dark hero  1368150079\n",
       "3      65      521  noir thriller  1368149983\n",
       "4      65      592      dark hero  1368150078"
      ]
     },
     "execution_count": 37,
     "metadata": {},
     "output_type": "execute_result"
    }
   ],
   "source": [
    "df=pd.read_csv(\"tags.csv\")\n",
    "print df.shape\n",
    "df.head()"
   ]
  },
  {
   "cell_type": "code",
   "execution_count": 38,
   "metadata": {},
   "outputs": [],
   "source": [
    "del df['tag']\n",
    "del df['timestamp']"
   ]
  },
  {
   "cell_type": "code",
   "execution_count": 39,
   "metadata": {
    "collapsed": true
   },
   "outputs": [],
   "source": [
    "users=[]\n",
    "for i in range(0,465563):\n",
    "    users.append(df.values[i][0])\n",
    "users=list(set(users))\n",
    "users=sorted(users, key=int)\n",
    "\n",
    "#print len(users)\n",
    "\n",
    "thefile = open('userId.dat', 'w')\n",
    "for item in users:\n",
    "  thefile.write(\"%s\\n\" % item)"
   ]
  },
  {
   "cell_type": "code",
   "execution_count": 40,
   "metadata": {},
   "outputs": [
    {
     "data": {
      "text/plain": [
       "7800"
      ]
     },
     "execution_count": 40,
     "metadata": {},
     "output_type": "execute_result"
    }
   ],
   "source": [
    "user_lib=defaultdict(list)\n",
    "for i in range(0,465563):\n",
    "    user_lib[df.values[i][0]].append(df.values[i][1])\n",
    "len(user_lib)"
   ]
  },
  {
   "cell_type": "code",
   "execution_count": 41,
   "metadata": {},
   "outputs": [
    {
     "name": "stdout",
     "output_type": "stream",
     "text": [
      "[208, 353, 521, 592, 668, 898, 1248, 1391, 1617, 1694, 1783, 2022, 2193, 2353, 2662, 2726, 2840, 3052, 5135, 6539, 6874, 7013, 7318, 8529, 8622, 27803, 27866, 48082, 48082, 51884, 58652, 58652, 58652, 58652]\n"
     ]
    },
    {
     "data": {
      "text/plain": [
       "34"
      ]
     },
     "execution_count": 41,
     "metadata": {},
     "output_type": "execute_result"
    }
   ],
   "source": [
    "l=user_lib.get(65)\n",
    "print l\n",
    "len(l)"
   ]
  },
  {
   "cell_type": "code",
   "execution_count": 42,
   "metadata": {
    "collapsed": true
   },
   "outputs": [],
   "source": [
    "f= open(\"users.dat\",\"w+\")\n",
    "for i in users:\n",
    "    l=user_lib.get(i)\n",
    "    f.write(\"%d \" %len(l))\n",
    "    for j in l:\n",
    "        f.write(\"%d \"% j)\n",
    "    f.write(\"\\n\")\n",
    "f.close()"
   ]
  },
  {
   "cell_type": "code",
   "execution_count": 43,
   "metadata": {
    "collapsed": true
   },
   "outputs": [],
   "source": [
    "items=[]\n",
    "for i in range(0,465563):\n",
    "    items.append(df.values[i][1])\n",
    "items=list(set(items))\n",
    "items=sorted(items, key=int)\n",
    "\n",
    "#print len(items)\n",
    "\n",
    "\n",
    "thefile = open('itemId.dat', 'w')\n",
    "for item in items:\n",
    "    thefile.write(\"%s\\n\" % item)\n"
   ]
  },
  {
   "cell_type": "code",
   "execution_count": 44,
   "metadata": {},
   "outputs": [
    {
     "data": {
      "text/plain": [
       "19545"
      ]
     },
     "execution_count": 44,
     "metadata": {},
     "output_type": "execute_result"
    }
   ],
   "source": [
    "item_lib=defaultdict(list)\n",
    "for i in range(0,465563):\n",
    "    item_lib[df.values[i][1]].append(df.values[i][0])\n",
    "len(item_lib)"
   ]
  },
  {
   "cell_type": "code",
   "execution_count": 45,
   "metadata": {},
   "outputs": [
    {
     "data": {
      "text/plain": [
       "[18, 66193, 70201, 89274]"
      ]
     },
     "execution_count": 45,
     "metadata": {},
     "output_type": "execute_result"
    }
   ],
   "source": [
    "l=item_lib.get(4141)\n",
    "l"
   ]
  },
  {
   "cell_type": "code",
   "execution_count": 46,
   "metadata": {
    "collapsed": true
   },
   "outputs": [],
   "source": [
    "f= open(\"items.dat\",\"w+\")\n",
    "for i in items:\n",
    "    l=item_lib.get(i)\n",
    "    f.write(\"%d \" %len(l))\n",
    "    for j in l:\n",
    "        f.write(\"%d \"% j)\n",
    "    f.write(\"\\n\")\n",
    "f.close()"
   ]
  },
  {
   "cell_type": "code",
   "execution_count": 47,
   "metadata": {
    "collapsed": true
   },
   "outputs": [],
   "source": [
    "#vocabulary\n",
    "df=pd.read_csv(\"tags.csv\")\n",
    "del df['timestamp']\n",
    "del df['userId']"
   ]
  },
  {
   "cell_type": "code",
   "execution_count": 48,
   "metadata": {},
   "outputs": [
    {
     "data": {
      "text/plain": [
       "38644"
      ]
     },
     "execution_count": 48,
     "metadata": {},
     "output_type": "execute_result"
    }
   ],
   "source": [
    "vocab = df['tag']\n",
    "vocab=list(set(vocab))\n",
    "vocab.sort()\n",
    "len(vocab)"
   ]
  },
  {
   "cell_type": "code",
   "execution_count": 49,
   "metadata": {
    "collapsed": true
   },
   "outputs": [],
   "source": [
    "f= open(\"vocab.dat\",\"w+\")\n",
    "for i in vocab:\n",
    "    f.write(\"%s\\n \" %str(i))\n",
    "f.close()"
   ]
  },
  {
   "cell_type": "code",
   "execution_count": 51,
   "metadata": {},
   "outputs": [
    {
     "name": "stdout",
     "output_type": "stream",
     "text": [
      "4141\n",
      "Mark Waters\n"
     ]
    }
   ],
   "source": [
    "print df.values[0][0]\n",
    "print df.values[0][1]"
   ]
  },
  {
   "cell_type": "code",
   "execution_count": 52,
   "metadata": {},
   "outputs": [
    {
     "data": {
      "text/plain": [
       "19545"
      ]
     },
     "execution_count": 52,
     "metadata": {},
     "output_type": "execute_result"
    }
   ],
   "source": [
    "item_tag=defaultdict(list)\n",
    "for i in range(0,465563):\n",
    "    item_tag[df.values[i][0]].append(df.values[i][1])\n",
    "len(item_tag)"
   ]
  },
  {
   "cell_type": "code",
   "execution_count": 53,
   "metadata": {},
   "outputs": [
    {
     "name": "stdout",
     "output_type": "stream",
     "text": [
      "1 ['Watched', 'computer animation', 'Disney animated feature', 'Pixar animation', 'T\\xc3\\x83\\xc2\\xa9a Leoni does not star in this movie', 'Pixar', 'animation', 'family', 'Tom Hanks', 'Pixar', 'witty', 'Pixar', 'adventure', 'animated', 'animation', 'clever', 'comedy', 'computer animation', 'family', 'fantasy', 'Tom Hanks', 'bright', 'DARING RESCUES', 'fanciful', 'HEROIC MISSION', 'humorous', 'light', 'rousing', 'TOYS COME TO LIFE', 'UNLIKELY FRIENDSHIPS', 'warm', 'witty', 'animation', 'humorous', 'Pixar', 'time travel', 'Pixar', 'Pixar animation', 'animation', 'kids movie', 'Pixar', 'Pixar', 'Pixar', 'witty', 'Disney', 'Tim Allen', 'time travel', 'action figure', 'action figures', 'Buzz Lightyear', 'CG animation', 'toy', 'toys', 'Woody', 'animation', 'Pixar', 'animation', 'Disney', 'villian hurts toys', 'pixar', 'animation', 'disney', 'fantasy', 'Pixar', 'animation', 'pixar', 'children', '\\xc3\\xa9\\xcb\\x9c\\xc2\\xae\\xc3\\xa4\\xc2\\xb8\\xe2\\x82\\xac\\xc3\\xa9\\xc2\\xb8\\xc2\\xa3', 'animation', 'computer animation', 'funny', 'humorous', 'Pixar', 'Tom Hanks', 'witty', '3D', 'Disney', 'funny', 'Pixar', 'time travel', 'Pixar', 'time travel', 'animation', 'Pixar', 'Cartoon', 'Disney', 'toy', 'toys', 'Pixar', 'Pixar', 'animation', 'pixar', 'animated', 'animation', 'comedy', 'Disney', 'Pixar', 'ya boy', 'clever', 'computer animation', 'Disney', 'fantasy', 'Pixar', 'toys', 'witty', 'animation', 'cgi', 'rated-G', 'Pixar', 'children', 'computer animation', 'family', 'funny', 'Pixar', 'Tom Hanks', 'toys', 'lots of heart', 'Animation', 'Pixar', 'want to see again', 'children', 'Disney', 'computer animation', 'funny', 'Pixar', 'animation', 'fantasy', 'Pixar', 'animation', 'Pixar', 'Disney', 'Pixar', 'Tim Allen', 'Tom Hanks', 'Pixar', 'animation', 'comedy', 'Disney', 'Pixar', 'imdb top 250', 'animation', 'pixar', 'Tim Allen', 'Tom Hanks', '3D', 'animated', 'children', 'comedy', 'computer animation', 'Disney', 'family', 'humorous', 'Pixar', 'time travel', 'Tom Hanks', 'children', 'Pixar', 'Tom Hanks', 'animation', 'Pixar', 'animated', 'animation', 'buddy movie', 'computer animation', 'funny', 'Pixar', 'Tom Hanks', 'Tom Hanks', 'Cartoon', 'animation', 'comedy', 'funny', 'imdb top 250', 'Pixar', 'Pixar', 'Tom Hanks', 'pixar', 'animation', 'cgi', 'Disney', 'family', 'Pixar', 'toys', 'computer animation', 'Pixar', 'children', 'family', 'Pixar', 'Tom Hanks', 'toys', 'witty', 'Pixar', 'the boys', 'Pixar', 'animated', 'cgi', 'comedy', 'animated', 'animation', 'children', 'comedy', 'fantasy', 'funny', 'humorous', 'Pixar', 'time travel', 'very good', 'Best of Rotten Tomatoes: All Time', 'John Lasseter', 'Pixar', 'animation', 'computer animation', 'pixar', 'toys', 'adventure', 'animation', 'comedy', 'family', 'fantasy', 'John Lasseter', 'USA', 'adventure', 'children', 'classic', 'computer animation', 'Disney', 'funny', 'Pixar', 'Tim Allen', 'Tom Hanks', 'animation', 'Pixar', 'adventure', 'children', 'family', 'funny', 'animation', 'Tom Hanks', 'avi', 'buy', 'animated', 'fun', 'pixar', 'computer animation', '3D', 'children', 'Want', 'classic', 'pixar', 'children', 'computer animation', 'family', 'humorous', 'time travel', 'Tom Hanks', 'witty', 'Pixar', 'animation', 'pixar', 'Pixar', 'CGI', 'classic', 'disney', 'pixar', 'pixar', 'animation', 'Disney', 'Pixar', 'soothing', 'Tom Hanks', 'almost favorite', 'toys', 'computer animation', 'Disney', 'humorous', 'Pixar', 'funny', 'Pixar', 'adventure', 'animated', 'animation', 'buddy movie', 'children', 'classic', 'clever', 'comedy', 'computer animation', 'Disney', 'family', 'fantasy', 'funny', 'humorous', 'imdb top 250', 'Pixar', 'time travel', 'Tom Hanks', 'toys', 'witty', 'adventure', 'animation', 'children', 'comedy', 'Disney', 'animation', 'fun', 'animation', 'children', 'clever', 'Disney', 'family', 'funny', 'humorous', 'imdb top 250', 'Pixar', 'Pixar animation', 'Tom Hanks', 'Pixar', 'Disney', 'Pixar', 'adventure', 'animated', 'animation', 'classic', 'Disney', 'fantasy', 'Pixar', 'Tom Hanks', 'toys', 'animation', 'children', 'computer animation', 'Disney', 'family', 'Pixar', 'animation', 'Pixar', 'animation', 'friendship', 'toys', 'computer animation', 'Pixar', 'adventure', 'computer animation', 'Pixar', 'pixar', 'animation', 'Pixar', 'Tim Allen', 'Tom Hanks', 'family film', 'friendship', 'toys', 'cute', 'funny', 'story', 'voice acting', 'witty', 'classic', 'Disney', 'Pixar', 'animation', 'Pixar', 'animation', 'classic', 'comedy', 'computer animation', 'Disney', 'funny', 'humorous', 'Pixar', 'time travel', 'Tom Hanks', 'witty', 'first cgi film', 'animation', 'children', 'Disney', 'animation', 'children', 'computer animation', 'Disney', 'imdb top 250', 'John Lasseter', 'Pixar', 'Tom Hanks', 'Engaging', 'animation', 'comedy', 'funny', 'Pixar', '2009 reissue in Stereoscopic 3-D', '55 movies every kid should see--Entertainment Weekly', 'BD-Video', 'CLV', 'DVD-Video', 'animation', 'children', 'Disney', 'Pixar', 'animation', 'animated', 'animation', 'buddy movie', 'children', 'clever', 'time travel', 'witty', 'kids and family', 'Pixar', 'witty', 'animation', \"erlend's DVDs\", 'funny', 'Pixar', 'witty', 'innovative', 'buddy movie', 'Tom Hanks', 'witty', 'time travel', 'dolls', 'National Film Registry', 'adventure', 'animation', 'comedy', 'funny', 'humorous', 'Pixar', 'animation', 'Disney', 'Pixar', 'toys', 'adventure', 'funny', \"Tumey's To See Again\", \"Tumey's VHS\"]\n",
      "*************\n",
      "2 ['time travel', 'adapted from:book', 'board game', 'childhood recaptured', 'game', 'herds of CGI animals', 'scary', 'see also:Zathura', 'time', 'time travel', 'board game', 'fantasy', 'Robin Williams', 'scary', 'time travel', 'Robin Williams', 'Joe Johnston', 'Robin Williams', 'kid flick', 'jungle', 'Robin Williams', 'board game', 'Robin Williams', 'animals', 'Lebbat', 'Robin Williams', 'time travel', 'adventure', 'Robin Williams', 'Children', 'Fantasy', 'Robin Williams', 'Dynamic CGI Action', 'Kirsten Dunst', 'Robin Williams', 'Robin Williams', 'fantasy', 'kid flick', 'animals', 'animals', 'fantasy', 'For children', 'fantasy', 'adapted from:book', 'childish', 'Children', 'kid flick', 'time travel', 'Joe Johnston', 'fantasy', 'Robin Williams', 'time travel', 'animals', 'board game', 'children', 'fantasy', 'Kirsten Dunst', 'Robin Williams', 'time travel', 'board game', 'time travel', 'Children', 'kid flick', 'Filmed in BC', 'fantasy', 'Robin Williams', 'animals', 'bad cgi', 'based on a book', 'board game', 'Chris Van Allsburg', 'Robin Williams', 'Robin Williams', 'game', 'magic board game', 'monkey', 'adapted from:book', 'animals', 'bad cgi', 'based on a book', 'board game', 'childhood recaptured', 'Children', 'Chris Van Allsburg', 'fantasy', 'Filmed in BC', 'jungle', 'kid flick', 'Kirsten Dunst', 'monkey', 'Robin Williams', 'Saturn Award (Best Special Effects)', 'Saturn Award (Best Supporting Actress)', 'scary', 'time', 'time travel', 'animals', 'based on a book', 'magic board game', 'monkey', 'Robin Williams', 'time travel', 'animals', 'childhood recaptured', 'herds of CGI animals', 'Kirsten Dunst', 'Robin Williams', 'fantasy', 'Robin Williams', 'scary', 'time travel', 'CLV', 'bad cgi', 'horrifying (but not Horror genre)', 'Kirsten Dunst', 'magic board game', 'monkey', 'not for kids', 'fantasy', 'animals', 'fantasy', 'Robin Williams', 'scary']\n",
      "*************\n",
      "3 ['old people that is actually funny', 'sequel fever', 'grun running', 'moldy', 'old', 'comedinha de velhinhos engra\\xc3\\x83\\xc6\\x92\\xc3\\x82\\xc2\\xa7ada', 'Funniest Movies', 'sequel', 'Jack Lemmon', 'Walter Matthau', 'NO_FA_GANES', 'Howard Deutch', 'sequel', 'comedinha de velhinhos engra\\xc3\\x83\\xc2\\xa7ada', 'moldy', 'old', 'CLV', 'comedy']\n",
      "*************\n",
      "4 ['chick flick', 'revenge', 'characters', 'chick flick', 'characters', 'CLV']\n",
      "*************\n",
      "5 ['Diane Keaton', 'family', 'sequel', 'Steve Martin', 'wedding', 'sequel fever', 'Fantasy', 'childhood classics', \"it thought it was funny but it wasn't\", 'watched under duress', 'worst movies ever', 'steve martin', 'steve martin', 'Comedy', 'Touching', 'pregnancy', 'remake', 'steve martin', 'CLV', 'family', 'pregnancy', 'wedding']\n",
      "*************\n",
      "6 ['realistic action', 'Al Pacino', 'Michael Mann', 'Robert De Niro', 'Al Pacino', 'Michael Mann', 'Natalie Portman', 'Robert De Niro', 'Val Kilmer', 'ending lame', 'Al Pacino', 'bank robbery', 'crime', 'dialogue', 'gunfight', 'long', 'Los Angeles', 'police', 'Robert De Niro', 'tense', 'Val Kilmer', 'atmospheric', 'bleak', 'slick', 'somber', 'tense', 'visceral', 'witty', 'overrated', 'crime', 'Al Pacino', 'atmospheric', 'Robert De Niro', 'Al Pacino', 'atmospheric', 'crime', 'great acting', 'philosophy', 'professionals', 'Robert De Niro', 'suspense', 'tense', 'action', 'Al Pacino', 'Robert De Niro', 'suspense', 'bleak', 'dialogue', 'long', 'overrated', 'too long', 'atmospheric', 'philosophy', 'slow paced', 'tense', 'need to own', 'Michael Mann', 'Al Pacino', 'Michael Mann', 'Robert De Niro', 'great acting', 'cliched', 'dumbed down', 'hollywoodization', 'lame', 'Al Pacino', 'Bank Heist', 'dialogue', 'great acting', 'philosophy', 'Robert De Niro', 'slow paced', 'suspense', 'tense', 'In The Nucleus', 'individualism', 'realistic', \"Can't remember\", 'Al Pacino', 'Robert De Niro', 'overrated', 'Al Pacino', 'great acting', 'Robert De Niro', 'long', 'imdb top 250', 'realistic', 'al pacino', 'electronic soundtrack', 'robert de niro', 'slow paced', 'adultery', 'Al Pacino', 'atmospheric', 'bank robbery', 'Bechdel Test:Fail', 'bleak', 'career criminal', 'dialogue', 'gunfight', 'guns', 'loner', 'long', 'Los Angeles', 'male-female relationship', 'Michael Mann', 'ONE LAST HEIST', 'overrated', 'philosophy', 'police', 'R', 'R:language', 'R:violence', 'Recommendz Top Pick', 'Robert De Niro', 'Seen 2010', 'slick', 'somber', 'teenage girl', 'tense', 'thieves', 'tough guy', 'Val Kilmer', 'visceral', 'realistic action', '7.5-FilmAffinity', 'es un poc de lo de sempre', \"Can't remember\", 'Al Pacino', 'crime', 'great acting', 'realistic action', 'suspense', 'tense', '1', 'Michael Mann', 'setting:LA', 'who cares DVDs', 'Al Pacino', 'Robert De Niro', 'Al Pacino', 'long', 'Natalie Portman', 'overrated', 'Robert De Niro', 'too long', 'Al Pacino', 'overrated', 'Robert De Niro', 'Bank Heist', 'imdb top 250', 'Natalie Portman', 'Val Kilmer', 'Want', 'overrated', 'Al Pacino', 'imdb top 250', 'Robert De Niro', 'imdb top 250', 'Recommendz Top Pick', 'too long', 'Al Pacino', 'bank robbery', 'crime', 'great acting', 'Natalie Portman', 'realistic action', 'Robert De Niro', 'soundtrack', 'suspense', 'tense', 'Val Kilmer', 'amazing cast', 'gunfight', 'philosophy', 'tragic end', 'Top 10 ever', 'long', 'adultery', 'Al Pacino', 'atmospheric', 'bank robbery', 'career criminal', 'crime', 'great acting', 'gunfight', 'guns', 'Los Angeles', 'Michael Mann', 'Natalie Portman', 'police', 'professionals', 'real life', 'realistic', 'realistic action', 'relationships', 'Robert De Niro', 'suicide', 'suspense', 'Val Kilmer', 'violent', 'visceral', 'Al and Robert', 'too long', 'owned', 'guns', 'seen 2011', 'Al Pacino', 'authenticity', 'great acting', 'Robert De Niro', 'visceral', 'btaege', 'great acting', 'suspense', 'tense', 'atmospheric', 'dialogue', 'Al Pacino', 'atmospheric', 'bank robbery', 'crime', 'Do kupienia', 'great acting', 'imdb top 250', 'Los Angeles', 'Michael Mann', 'Natalie Portman', 'philosophy', 'realistic action', 'Robert De Niro', 'suspense', 'tense', 'Val Kilmer', 'bank robbery', 'Los Angeles', 'realistic action', 'CLV', 'vontatott', 'Al Pacino', \"erlend's DVDs\", 'Michael Mann', 'Robert De Niro', 'Al Pacino', 'atmospheric', 'Robert De Niro', 'suspense', 'tense', 'atmospheric', 'Bibliothek', 'ClearPlay', 'R', 'crime', 'Al Pacino', 'Natalie Portman', 'Robert De Niro', 'suspense', 'overrated', \"Tumey's DVDs\"]\n",
      "*************\n",
      "7 ['Greg Kinnear', 'romance', 'remadeAs:Sabrina(1995)', 'remakeOf:Sabrina(1954)', 'upstairs-downstairs', 'based on a play', 'chick flick', 'finding yourself', 'Greg Kinnear', 'Harrison Ford', 'Paris', 'remake', 'ugly duckling', 'chick flick', 'remake', 'Drama', 'finding yourself', 'great cast', 'Greg Kinnear', 'Julia Ormond', 'love story', 'remake', 'romance', 'Romance', 'chick flick', 'remake', 'remake', 'NO_FA_GANES', 'based on a play', 'chick flick', 'Harrison Ford', 'Julia Ormond', 'Nancy Marchand', 'remake', 'based on a play', 'remake', 'remake', 'great cast', 'Harrison Ford', 'romance', 'Harrison Ford', 'relationships', 'CLV', 'Greg Kinnear', 'remake']\n",
      "*************\n",
      "8 ['adapted from:book', 'author:Mark Twain', 'Library System', 'seen', 'Peter Hewitt', 'based on a book', 'Mark Twain']\n",
      "*************\n",
      "9 ['action', 'jean-claude van damme', 'Peter Hyams', 'Jean-Claude Van Damme', \"Can't remember\", 'Jean-Claude Van Damme', 'Jean-Claude Van Damme', 'Peter Hyams', 'CLV']\n",
      "*************\n",
      "10 ['007 (series)', 'assassin', 'killer as protagonist', 'murder', '007', 'Bond', 'james bond', '007', 'tank chase scene', '007', 'Bond', 'espionage', 'good dialogue', 'espionage', 'James Bond', 'bond', 'Bob*ola', 'MTSKAF', 'Pierce Brosnan', 'James Bond', 'seen more than once', 'James Bond', 'Pierce Brosnan', 'James Bond', 'action', 'adventure', 'James Bond', 'espionage', 'Bond', 'Bond', 'Bond', 'seen more than once', \"it's a good movie but the end of 007 is always the same\", 'Sean Bean dies', '007', 'James Bond', 'Pierce Brosnan', '007', '007 (series)', 'action', 'espionage', 'gadgets', 'James Bond', 'Judi Dench', 'Pierce Brosnan', 'secret service', 'spies', 'violence', '007', 'james bond', 'Caribbean', 'espionage', 'franchise', 'James Bond', 'Latin America', 'Puerto Rico', '007', 'action', 'James Bond', 'Pierce Brosnan', '007', 'Bond', '007', 'James Bond', 'Best Of the Brosnon Bonds', 'Bond', 'owned', 'I wanted the bad guy to win.  Sean Bean out-Bonds Bond.', 'Pierce Brosnan', 'Bond', 'btaege', '007 movies are bad.', 'Bond', 'BD-Video', 'CLV', '007', 'Bond', '007', 'Bond', 'boys with toys', 'gadgets', 'secret service', 'sequel', 'spies', 'violence', 'James Bond', 'Pierce Brosnan', 'Bond', '007', 'dark', 'espionage', 'funny', 'good dialogue', 'James Bond', 'Memorable Characters', 'memorable lines', 'one-liners', 'sexuality', \"Tumey's DVDs\"]\n",
      "*************\n"
     ]
    }
   ],
   "source": [
    "for i in items[:10]:\n",
    "    print i, item_tag.get(i)\n",
    "    print \"*************\"\n",
    "f= open(\"item_tagged.dat\",\"w+\")\n",
    "for i in items:\n",
    "    f.write(\"%s \" %i)\n",
    "    f.write(\"%s\\n\" %str(item_tag.get(i)))\n",
    "f.close()\n"
   ]
  },
  {
   "cell_type": "code",
   "execution_count": 58,
   "metadata": {},
   "outputs": [
    {
     "ename": "ValueError",
     "evalue": "nan is not in list",
     "output_type": "error",
     "traceback": [
      "\u001b[0;31m---------------------------------------------------------------------------\u001b[0m",
      "\u001b[0;31mValueError\u001b[0m                                Traceback (most recent call last)",
      "\u001b[0;32m<ipython-input-58-e16c32f9dd98>\u001b[0m in \u001b[0;36m<module>\u001b[0;34m()\u001b[0m\n\u001b[1;32m     13\u001b[0m         \u001b[0;31m#print e, content.index(e)\u001b[0m\u001b[0;34m\u001b[0m\u001b[0;34m\u001b[0m\u001b[0m\n\u001b[1;32m     14\u001b[0m         \u001b[0;31m#e=e.replace\u001b[0m\u001b[0;34m\u001b[0m\u001b[0;34m\u001b[0m\u001b[0m\n\u001b[0;32m---> 15\u001b[0;31m         \u001b[0mtemp\u001b[0m\u001b[0;34m.\u001b[0m\u001b[0mappend\u001b[0m\u001b[0;34m(\u001b[0m\u001b[0mcontent\u001b[0m\u001b[0;34m.\u001b[0m\u001b[0mindex\u001b[0m\u001b[0;34m(\u001b[0m\u001b[0me\u001b[0m\u001b[0;34m)\u001b[0m\u001b[0;34m)\u001b[0m\u001b[0;34m\u001b[0m\u001b[0m\n\u001b[0m\u001b[1;32m     16\u001b[0m     \u001b[0mcounter\u001b[0m\u001b[0;34m=\u001b[0m\u001b[0mcollections\u001b[0m\u001b[0;34m.\u001b[0m\u001b[0mCounter\u001b[0m\u001b[0;34m(\u001b[0m\u001b[0mtemp\u001b[0m\u001b[0;34m)\u001b[0m\u001b[0;34m\u001b[0m\u001b[0m\n\u001b[1;32m     17\u001b[0m     \u001b[0mf\u001b[0m\u001b[0;34m.\u001b[0m\u001b[0mwrite\u001b[0m\u001b[0;34m(\u001b[0m\u001b[0;34m\"%d \"\u001b[0m \u001b[0;34m%\u001b[0m\u001b[0mlen\u001b[0m\u001b[0;34m(\u001b[0m\u001b[0mcounter\u001b[0m\u001b[0;34m)\u001b[0m\u001b[0;34m)\u001b[0m\u001b[0;34m\u001b[0m\u001b[0m\n",
      "\u001b[0;31mValueError\u001b[0m: nan is not in list"
     ]
    }
   ],
   "source": [
    "import collections,json\n",
    "with open(\"vocab.dat\") as f:\n",
    "    content = f.readlines()\n",
    "# you may also want to remove whitespace characters like `\\n` at the end of each line\n",
    "content = [x.strip() for x in content] \n",
    "#print content\n",
    "f= open(\"mult_ml.dat\",\"w+\")\n",
    "for i in items:\n",
    "    temp=[];\n",
    "    l=item_tag.get(i)\n",
    "    #print l\n",
    "    for e in l:\n",
    "        #print e, content.index(e)\n",
    "        #e=e.replace\n",
    "        temp.append(content.index(e))\n",
    "    counter=collections.Counter(temp)\n",
    "    f.write(\"%d \" %len(counter))\n",
    "    for k,v in counter.items():\n",
    "        f.write(\"%d:\" %k)\n",
    "        f.write(\"%d \" %v)    \n",
    "    f.write(\"\\n\")\n",
    "f.close()"
   ]
  },
  {
   "cell_type": "code",
   "execution_count": 60,
   "metadata": {},
   "outputs": [],
   "source": [
    "import collections,json\n",
    "with open('mult_ml.json', 'w') as fp:\n",
    "    for i in items:\n",
    "        counter=collections.Counter(item_tag.get(i))\n",
    "        #print i, len(counter),counter\n",
    "        json.dump(counter, fp,sort_keys=True, indent=4)"
   ]
  },
  {
   "cell_type": "code",
   "execution_count": null,
   "metadata": {
    "collapsed": true
   },
   "outputs": [],
   "source": []
  }
 ],
 "metadata": {
  "kernelspec": {
   "display_name": "Python 2",
   "language": "python",
   "name": "python2"
  },
  "language_info": {
   "codemirror_mode": {
    "name": "ipython",
    "version": 2
   },
   "file_extension": ".py",
   "mimetype": "text/x-python",
   "name": "python",
   "nbconvert_exporter": "python",
   "pygments_lexer": "ipython2",
   "version": "2.7.12"
  }
 },
 "nbformat": 4,
 "nbformat_minor": 2
}
